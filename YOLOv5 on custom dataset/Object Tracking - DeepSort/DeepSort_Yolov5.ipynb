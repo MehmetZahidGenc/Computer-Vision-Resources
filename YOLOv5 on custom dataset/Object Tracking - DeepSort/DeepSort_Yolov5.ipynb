{
  "nbformat": 4,
  "nbformat_minor": 0,
  "metadata": {
    "colab": {
      "provenance": []
    },
    "kernelspec": {
      "name": "python3",
      "display_name": "Python 3"
    },
    "language_info": {
      "name": "python"
    },
    "accelerator": "GPU"
  },
  "cells": [
    {
      "cell_type": "code",
      "execution_count": null,
      "metadata": {
        "id": "oA_5d7D3V697"
      },
      "outputs": [],
      "source": [
        "!git clone --recurse-submodules https://github.com/mikel-brostrom/Yolov5_DeepSort_Pytorch.git"
      ]
    },
    {
      "cell_type": "code",
      "source": [
        "%cd Yolov5_DeepSort_Pytorch"
      ],
      "metadata": {
        "colab": {
          "base_uri": "https://localhost:8080/"
        },
        "id": "7ow2_NDcWMX-",
        "outputId": "8efa6c41-1af5-41a8-ede1-443e4ebd99fb"
      },
      "execution_count": 2,
      "outputs": [
        {
          "output_type": "stream",
          "name": "stdout",
          "text": [
            "/content/Yolov5_DeepSort_Pytorch\n"
          ]
        }
      ]
    },
    {
      "cell_type": "code",
      "source": [
        "!pip install -r requirements.txt"
      ],
      "metadata": {
        "id": "rLx0E9X8WT_C"
      },
      "execution_count": null,
      "outputs": []
    },
    {
      "cell_type": "code",
      "source": [
        "import torch\n",
        "torch.cuda.is_available() \n",
        "torch.cuda.get_device_name(0)"
      ],
      "metadata": {
        "colab": {
          "base_uri": "https://localhost:8080/",
          "height": 36
        },
        "id": "zVtRZfxIWpKC",
        "outputId": "dfe4446b-64d4-4592-d179-808be3f974ae"
      },
      "execution_count": 5,
      "outputs": [
        {
          "output_type": "execute_result",
          "data": {
            "text/plain": [
              "'Tesla T4'"
            ],
            "application/vnd.google.colaboratory.intrinsic+json": {
              "type": "string"
            }
          },
          "metadata": {},
          "execution_count": 5
        }
      ]
    },
    {
      "cell_type": "code",
      "source": [
        "# all class tracking\n",
        "!python track.py --source video.mp4 --yolo-weights weights/yolov5m.pt --img 640  --strong-sort-weights osnet_x0_25_msmt17.pt  --save-vid"
      ],
      "metadata": {
        "id": "ArpCXyVaXSZp"
      },
      "execution_count": null,
      "outputs": []
    },
    {
      "cell_type": "code",
      "source": [
        "# you can track only specific class or classes\n",
        "!python track.py --source video.mp4 --yolo-weights weights/yolov5m.pt --classes 3 5 "
      ],
      "metadata": {
        "id": "KQcWyW0hYfw8"
      },
      "execution_count": null,
      "outputs": []
    }
  ]
}